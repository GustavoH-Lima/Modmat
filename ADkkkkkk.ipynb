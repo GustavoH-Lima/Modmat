{
 "cells": [
  {
   "cell_type": "code",
   "execution_count": 329,
   "id": "7d7f2a5e-8bf2-49a7-b180-fd0be88de9cc",
   "metadata": {},
   "outputs": [],
   "source": [
    "import numpy as np\n",
    "total_time = 10000\n",
    "n = 100\n",
    "arrival_rates  = [0.5, 0.8, 0.9, 0.99]\n",
    "\n",
    "#random number generator\n",
    "rng = np.random.default_rng()\n",
    "\n",
    "\n",
    "class Queue_Run:\n",
    "    def __init__(self,t,arrival_rate,service_rate):\n",
    "        self.t = t\n",
    "        self.arrival_rate = arrival_rate\n",
    "        self.service_rate = service_rate\n",
    "        self.compute_run()\n",
    "\n",
    "    def compute_run(self):\n",
    "        #arrival times:\n",
    "        arrivals = [0]\n",
    "        next_arrival = rng.exponential(1/self.arrival_rate)\n",
    "        arrivals.append(next_arrival)\n",
    "        while(arrivals[-1]+next_arrival<self.t):\n",
    "            arrivals.append(arrivals[-1] + next_arrival)\n",
    "            next_arrival = rng.exponential(1/self.arrival_rate)\n",
    "        self.arrivals = arrivals\n",
    "\n",
    "\n",
    "        #service times\n",
    "        self.service_times = rng.exponential(1,len(self.arrivals))\n",
    "\n",
    "        #compute end times\n",
    "        ends = []\n",
    "        ends.append(self.arrivals[0]+self.service_times[0])\n",
    "\n",
    "        for i in range(1,len(arrivals)):\n",
    "            if(ends[-1]>=arrivals[i]):\n",
    "                ends.append(ends[-1]+self.service_times[i])\n",
    "            else:\n",
    "                ends.append(self.arrivals[i]+self.service_times[i])\n",
    "        self.ends = ends\n",
    "        self.time_in_system = [self.ends[i]-self.arrivals[i] for i in range(0,len(self.arrivals))]\n",
    "\n",
    "\n",
    "        \n",
    "        "
   ]
  },
  {
   "cell_type": "code",
   "execution_count": 343,
   "id": "82b3f73e-c758-4e26-a91c-fd5e7ce073d9",
   "metadata": {},
   "outputs": [
    {
     "name": "stdout",
     "output_type": "stream",
     "text": [
      "Average amount of time in system for arrival rate(0.5)= 1.9994499983373393\n",
      "\n",
      "Average amount of time in system for arrival rate(0.8)= 4.99568054728247\n",
      "\n",
      "Average amount of time in system for arrival rate(0.9)= 9.946913847544813\n",
      "\n",
      "Average amount of time in system for arrival rate(0.99)= 96.7366734807902\n",
      "\n"
     ]
    }
   ],
   "source": [
    "for arrival_rate in arrival_rates:\n",
    "    runs = []\n",
    "    for i in range(0,100):\n",
    "        runs.append(Queue_Run(10000,arrival_rate,1))\n",
    "    print(\"Average amount of time in system for arrival rate({})= {}\\n\".format(arrival_rate,np.mean([np.mean(run.time_in_system) for run in runs])))\n",
    "    "
   ]
  },
  {
   "cell_type": "code",
   "execution_count": 344,
   "id": "eebd2f4e-d363-48de-9d5e-eb0b6ee61e59",
   "metadata": {},
   "outputs": [
    {
     "name": "stdout",
     "output_type": "stream",
     "text": [
      "Average amount of time in system for arrival rate(0.5)= 1.98643353434757\n",
      "\n",
      "Average amount of time in system for arrival rate(0.8)= 4.960109497388207\n",
      "\n",
      "Average amount of time in system for arrival rate(0.9)= 9.926791594464866\n",
      "\n",
      "Average amount of time in system for arrival rate(0.99)= 57.66555384107769\n",
      "\n"
     ]
    }
   ],
   "source": [
    "for arrival_rate in arrival_rates:\n",
    "    runs = []\n",
    "    for i in range(0,100):\n",
    "        runs.append(Queue_Run(10000,arrival_rate,1))\n",
    "    print(\"Average amount of time in system for arrival rate({})= {}\\n\".format(arrival_rate,np.mean([np.mean(run.time_in_system) for run in runs])))\n",
    "    "
   ]
  },
  {
   "cell_type": "code",
   "execution_count": null,
   "id": "005fea9d-e8b3-4b00-93ea-4e990e2d0e46",
   "metadata": {},
   "outputs": [],
   "source": []
  }
 ],
 "metadata": {
  "kernelspec": {
   "display_name": "Python 3 (ipykernel)",
   "language": "python",
   "name": "python3"
  },
  "language_info": {
   "codemirror_mode": {
    "name": "ipython",
    "version": 3
   },
   "file_extension": ".py",
   "mimetype": "text/x-python",
   "name": "python",
   "nbconvert_exporter": "python",
   "pygments_lexer": "ipython3",
   "version": "3.12.4"
  }
 },
 "nbformat": 4,
 "nbformat_minor": 5
}
